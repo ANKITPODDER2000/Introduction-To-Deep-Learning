{
 "cells": [
  {
   "cell_type": "code",
   "execution_count": 1,
   "metadata": {},
   "outputs": [],
   "source": [
    "import numpy as np"
   ]
  },
  {
   "cell_type": "code",
   "execution_count": 2,
   "metadata": {},
   "outputs": [],
   "source": [
    "a = np.random.rand(5)"
   ]
  },
  {
   "cell_type": "code",
   "execution_count": 3,
   "metadata": {},
   "outputs": [
    {
     "data": {
      "text/plain": [
       "array([0.17539379, 0.43186385, 0.23658313, 0.61239378, 0.23151351])"
      ]
     },
     "execution_count": 3,
     "metadata": {},
     "output_type": "execute_result"
    }
   ],
   "source": [
    "a"
   ]
  },
  {
   "cell_type": "code",
   "execution_count": 4,
   "metadata": {},
   "outputs": [
    {
     "data": {
      "text/plain": [
       "(5,)"
      ]
     },
     "execution_count": 4,
     "metadata": {},
     "output_type": "execute_result"
    }
   ],
   "source": [
    "a.shape"
   ]
  },
  {
   "cell_type": "code",
   "execution_count": 5,
   "metadata": {},
   "outputs": [
    {
     "data": {
      "text/plain": [
       "1"
      ]
     },
     "execution_count": 5,
     "metadata": {},
     "output_type": "execute_result"
    }
   ],
   "source": [
    "a.ndim"
   ]
  },
  {
   "cell_type": "code",
   "execution_count": 6,
   "metadata": {},
   "outputs": [],
   "source": [
    "import time"
   ]
  },
  {
   "cell_type": "code",
   "execution_count": 12,
   "metadata": {},
   "outputs": [
    {
     "name": "stdout",
     "output_type": "stream",
     "text": [
      "Vectorization Method take :  20.944595336914062  ms.\n",
      "Ans of multipication is :  2501026.587945422\n",
      "\n",
      "==============================================\n",
      "==============================================\n",
      "\n",
      "Vectorization Method take :  8794.716835021973  ms.\n",
      "Ans of multipication is :  2501026.5879456\n"
     ]
    }
   ],
   "source": [
    "a = np.random.rand(10000000)\n",
    "b = np.random.rand(10000000)\n",
    "start = time.time()\n",
    "ans = np.dot(a,b)\n",
    "end = time.time()\n",
    "\n",
    "print(\"Vectorization Method take : \",(end-start)*1000,\" ms.\")\n",
    "print(\"Ans of multipication is : \",ans)\n",
    "print(\"\\n==============================================\\n==============================================\\n\")\n",
    "start = time.time()\n",
    "ans = 0\n",
    "for i in range(len(a)):\n",
    "    ans += a[i]*b[i]\n",
    "end = time.time()\n",
    "print(\"Vectorization Method take : \",(end-start)*1000,\" ms.\")\n",
    "print(\"Ans of multipication is : \",ans)"
   ]
  },
  {
   "cell_type": "code",
   "execution_count": 16,
   "metadata": {},
   "outputs": [
    {
     "name": "stdout",
     "output_type": "stream",
     "text": [
      "Shape of a :  (1, 3)\n",
      "Shape of aT :  (3, 1)\n"
     ]
    }
   ],
   "source": [
    "a = np.array([[2,4,5]])\n",
    "aT = np.transpose(a)\n",
    "print(\"Shape of a : \",a.shape)\n",
    "print(\"Shape of aT : \",aT.shape)"
   ]
  },
  {
   "cell_type": "code",
   "execution_count": 19,
   "metadata": {},
   "outputs": [
    {
     "name": "stdout",
     "output_type": "stream",
     "text": [
      "Shape of a :  (1, 3)\n",
      "Shape of aT :  (3, 1)\n"
     ]
    }
   ],
   "source": [
    "a = np.array([[2,4,5]])\n",
    "aT = a.T\n",
    "print(\"Shape of a : \",a.shape)\n",
    "print(\"Shape of aT : \",aT.shape)"
   ]
  },
  {
   "cell_type": "code",
   "execution_count": 20,
   "metadata": {},
   "outputs": [],
   "source": [
    "a = [\n",
    "    [10,50,70],\n",
    "    [50,70,90],\n",
    "    [40,80,40]\n",
    "]"
   ]
  },
  {
   "cell_type": "code",
   "execution_count": 22,
   "metadata": {},
   "outputs": [
    {
     "name": "stdout",
     "output_type": "stream",
     "text": [
      "Array a is : \n",
      " [[10 50 70]\n",
      " [50 70 90]\n",
      " [40 80 40]]\n",
      "=========================\n",
      "Shape of Array is :  (3, 3)\n"
     ]
    }
   ],
   "source": [
    "a = np.array(a)\n",
    "print(\"Array a is : \\n\",a)\n",
    "print(\"=========================\")\n",
    "print(\"Shape of Array is : \",a.shape)"
   ]
  },
  {
   "cell_type": "code",
   "execution_count": 26,
   "metadata": {},
   "outputs": [],
   "source": [
    "start = time.time()\n",
    "dotA_A = np.dot(a,a)\n",
    "end = time.time()\n",
    "ti = (end-start)*1000"
   ]
  },
  {
   "cell_type": "code",
   "execution_count": 33,
   "metadata": {},
   "outputs": [
    {
     "name": "stdout",
     "output_type": "stream",
     "text": [
      "\n",
      "Dot product is :\n",
      " [[ 5400  9600  8000]\n",
      " [ 7600 14600 13400]\n",
      " [ 6000 10800 11600]]\n",
      "Time Needed :  52.887916564941406 ms\n"
     ]
    }
   ],
   "source": [
    "print(\"\\nDot product is :\\n\",dotA_A)\n",
    "print(\"Time Needed : \",ti,\"ms\")"
   ]
  },
  {
   "cell_type": "code",
   "execution_count": 30,
   "metadata": {},
   "outputs": [],
   "source": [
    "start = time.time()\n",
    "ans = np.zeros((a.shape[0],a.shape[1]),dtype=np.int64)\n",
    "\n",
    "for i in range(a.shape[0]):\n",
    "    for j in range(a.shape[1]):\n",
    "        for k in range(a.shape[1]):\n",
    "            ans[i,j] += a[i,k]*a[k,j]\n",
    "end = time.time()\n",
    "ti = (end-start)*1000"
   ]
  },
  {
   "cell_type": "code",
   "execution_count": 32,
   "metadata": {},
   "outputs": [
    {
     "name": "stdout",
     "output_type": "stream",
     "text": [
      "\n",
      "Dot product is :\n",
      " [[ 5400  9600  8000]\n",
      " [ 7600 14600 13400]\n",
      " [ 6000 10800 11600]]\n",
      "================================\n",
      "Time Needed :  52.887916564941406 ms\n"
     ]
    }
   ],
   "source": [
    "print(\"\\nDot product is :\\n\",ans)\n",
    "print(\"================================\")\n",
    "print(\"Time Needed : \",ti,\"ms\")"
   ]
  },
  {
   "cell_type": "code",
   "execution_count": 46,
   "metadata": {},
   "outputs": [],
   "source": [
    "ins_a = np.insert(a,3,[[10,20,30]],axis=1)"
   ]
  },
  {
   "cell_type": "code",
   "execution_count": 47,
   "metadata": {},
   "outputs": [
    {
     "data": {
      "text/plain": [
       "array([[10, 50, 70, 10],\n",
       "       [50, 70, 90, 20],\n",
       "       [40, 80, 40, 30]])"
      ]
     },
     "execution_count": 47,
     "metadata": {},
     "output_type": "execute_result"
    }
   ],
   "source": [
    "ins_a"
   ]
  },
  {
   "cell_type": "code",
   "execution_count": 49,
   "metadata": {},
   "outputs": [
    {
     "data": {
      "text/plain": [
       "array([[ 20,  70, 100,  50],\n",
       "       [ 60,  90, 120,  60],\n",
       "       [ 50, 100,  70,  70]])"
      ]
     },
     "execution_count": 49,
     "metadata": {},
     "output_type": "execute_result"
    }
   ],
   "source": [
    "ins_a + np.array([10,20,30,40]).reshape(1,4)"
   ]
  },
  {
   "cell_type": "code",
   "execution_count": 59,
   "metadata": {},
   "outputs": [
    {
     "data": {
      "text/plain": [
       "array([[0.1       , 0.25      , 0.35      , 0.16666667],\n",
       "       [0.5       , 0.35      , 0.45      , 0.33333333],\n",
       "       [0.4       , 0.4       , 0.2       , 0.5       ]])"
      ]
     },
     "execution_count": 59,
     "metadata": {},
     "output_type": "execute_result"
    }
   ],
   "source": [
    "ins_a / ins_a.sum(axis=0).reshape(1,4)"
   ]
  },
  {
   "cell_type": "code",
   "execution_count": null,
   "metadata": {},
   "outputs": [],
   "source": []
  },
  {
   "cell_type": "code",
   "execution_count": null,
   "metadata": {},
   "outputs": [],
   "source": []
  }
 ],
 "metadata": {
  "kernelspec": {
   "display_name": "Python 3",
   "language": "python",
   "name": "python3"
  },
  "language_info": {
   "codemirror_mode": {
    "name": "ipython",
    "version": 3
   },
   "file_extension": ".py",
   "mimetype": "text/x-python",
   "name": "python",
   "nbconvert_exporter": "python",
   "pygments_lexer": "ipython3",
   "version": "3.7.3"
  }
 },
 "nbformat": 4,
 "nbformat_minor": 2
}
